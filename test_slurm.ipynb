{
 "cells": [
  {
   "cell_type": "code",
   "execution_count": 1,
   "id": "5d2ed4b1",
   "metadata": {},
   "outputs": [
    {
     "name": "stdout",
     "output_type": "stream",
     "text": [
      "/home/avcopan/code/other/covalent-practice/.config\n"
     ]
    }
   ],
   "source": [
    "import os\n",
    "proj_root = os.environ.get('PIXI_PROJECT_ROOT')\n",
    "os.environ['COVALENT_CONFIG_DIR'] = f\"{proj_root}/.config\"\n",
    "print(os.environ.get('COVALENT_CONFIG_DIR'))"
   ]
  },
  {
   "cell_type": "code",
   "execution_count": 2,
   "id": "d279d0f9-9b90-4fb5-8420-0e440e2dbaf3",
   "metadata": {},
   "outputs": [
    {
     "name": "stderr",
     "output_type": "stream",
     "text": [
      "/home/avcopan/code/other/covalent-practice/.pixi/envs/default/lib/python3.10/site-packages/asyncssh/crypto/cipher.py:29: CryptographyDeprecationWarning: ARC4 has been moved to cryptography.hazmat.decrepit.ciphers.algorithms.ARC4 and will be removed from this module in 48.0.0.\n",
      "  from cryptography.hazmat.primitives.ciphers.algorithms import AES, ARC4\n",
      "/home/avcopan/code/other/covalent-practice/.pixi/envs/default/lib/python3.10/site-packages/asyncssh/crypto/cipher.py:30: CryptographyDeprecationWarning: TripleDES has been moved to cryptography.hazmat.decrepit.ciphers.algorithms.TripleDES and will be removed from this module in 48.0.0.\n",
      "  from cryptography.hazmat.primitives.ciphers.algorithms import TripleDES\n"
     ]
    }
   ],
   "source": [
    "import subprocess\n",
    "import covalent as ct"
   ]
  },
  {
   "cell_type": "code",
   "execution_count": 3,
   "id": "569bbe8e-be5b-4b1e-8fc3-03b6de2de897",
   "metadata": {},
   "outputs": [],
   "source": [
    "@ct.electron(executor=\"slurm\")\n",
    "def slow_job(arg):\n",
    "    subprocess.run([\"sleep\", \"5\"])\n",
    "    return arg\n",
    "\n",
    "\n",
    "@ct.lattice\n",
    "def workflow(arg):\n",
    "    return [slow_job(arg) for _ in range(arg)]"
   ]
  },
  {
   "cell_type": "code",
   "execution_count": 4,
   "id": "f8dd039f-cc1c-4c39-b6e3-e0dbf94a72de",
   "metadata": {},
   "outputs": [],
   "source": [
    "dispatch_id = ct.dispatch(workflow)(3)"
   ]
  },
  {
   "cell_type": "code",
   "execution_count": 5,
   "id": "7ae248df-f48b-4cea-b5fb-2f5d1ebf0980",
   "metadata": {},
   "outputs": [
    {
     "name": "stdout",
     "output_type": "stream",
     "text": [
      "\n",
      "Lattice Result\n",
      "==============\n",
      "status: RUNNING\n",
      "result: None\n",
      "input args: 3\n",
      "input kwargs: \n",
      "error: None\n",
      "\n",
      "start_time: 2024-07-23 18:32:29.827576\n",
      "end_time: None\n",
      "\n",
      "results_dir: /home/avcopan/.cache/covalent/results/8ef0314f-7f7a-4be3-a72e-16f13da739c2\n",
      "dispatch_id: 8ef0314f-7f7a-4be3-a72e-16f13da739c2\n",
      "\n",
      "Node Outputs\n",
      "------------\n",
      "slow_job(0): None\n",
      ":parameter:3(1): 3\n",
      "slow_job(2): None\n",
      ":parameter:3(3): 3\n",
      "slow_job(4): None\n",
      ":parameter:3(5): 3\n",
      ":postprocess:reconstruct(6): None\n",
      ":electron_list:(7): None\n",
      "\n"
     ]
    }
   ],
   "source": [
    "result = ct.get_result(dispatch_id)\n",
    "print(result)"
   ]
  },
  {
   "cell_type": "code",
   "execution_count": null,
   "id": "edbf57d5",
   "metadata": {},
   "outputs": [],
   "source": []
  }
 ],
 "metadata": {
  "kernelspec": {
   "display_name": "Python 3 (ipykernel)",
   "language": "python",
   "name": "python3"
  },
  "language_info": {
   "codemirror_mode": {
    "name": "ipython",
    "version": 3
   },
   "file_extension": ".py",
   "mimetype": "text/x-python",
   "name": "python",
   "nbconvert_exporter": "python",
   "pygments_lexer": "ipython3",
   "version": "3.10.14"
  }
 },
 "nbformat": 4,
 "nbformat_minor": 5
}
