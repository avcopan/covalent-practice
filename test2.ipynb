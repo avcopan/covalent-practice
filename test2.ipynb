{
 "cells": [
  {
   "cell_type": "code",
   "execution_count": 1,
   "id": "41446e6a-0bfd-40a3-9e28-78017c82ae3d",
   "metadata": {},
   "outputs": [],
   "source": [
    "import covalent as ct\n",
    "\n",
    "local = ct.executor.LocalExecutor()\n",
    "\n",
    "# Construct manageable tasks out of functions\n",
    "# by adding the @covalent.electron decorator\n",
    "@ct.electron(executor=local)\n",
    "def add(x, y):\n",
    "   return x + y\n",
    "\n",
    "@ct.electron(executor=local)\n",
    "def multiply(x, y):\n",
    "   return x*y\n",
    "\n",
    "@ct.electron(executor=local)\n",
    "def divide(x, y):\n",
    "   return x/y\n",
    "\n",
    "# Construct the workflow by stitching together\n",
    "# the electrons defined earlier in a function with\n",
    "# the @covalent.lattice decorator\n",
    "@ct.lattice\n",
    "def workflow(x, y):\n",
    "   r1 = add(x, y)\n",
    "   r2 = [multiply(r1, y) for _ in range(4)]\n",
    "   r3 = [divide(x, value) for value in r2]\n",
    "   return r3\n",
    "\n",
    "# Dispatch the workflow\n",
    "dispatch_id = ct.dispatch(workflow)(1, 2)"
   ]
  },
  {
   "cell_type": "code",
   "execution_count": 3,
   "id": "810636ea-c69f-4bc2-971a-bd903b8bc399",
   "metadata": {},
   "outputs": [
    {
     "name": "stdout",
     "output_type": "stream",
     "text": [
      "\n",
      "Lattice Result\n",
      "==============\n",
      "status: COMPLETED\n",
      "result: [0.16666666666666666, 0.16666666666666666, 0.16666666666666666, 0.16666666666666666]\n",
      "input args: 1, 2\n",
      "input kwargs: \n",
      "error: None\n",
      "\n",
      "start_time: 2024-07-19 20:52:09.314826\n",
      "end_time: 2024-07-19 20:52:12.922269\n",
      "\n",
      "results_dir: /home/avcopan/.cache/covalent/results/c7e5e40d-9330-437e-87f5-22e81e1afea8\n",
      "dispatch_id: c7e5e40d-9330-437e-87f5-22e81e1afea8\n",
      "\n",
      "Node Outputs\n",
      "------------\n",
      "add(0): 3\n",
      ":parameter:1(1): 1\n",
      ":parameter:2(2): 2\n",
      "multiply(3): 6\n",
      ":parameter:2(4): 2\n",
      "multiply(5): 6\n",
      ":parameter:2(6): 2\n",
      "multiply(7): 6\n",
      ":parameter:2(8): 2\n",
      "multiply(9): 6\n",
      ":parameter:2(10): 2\n",
      "divide(11): 0.16666666666666666\n",
      ":parameter:1(12): 1\n",
      "divide(13): 0.16666666666666666\n",
      ":parameter:1(14): 1\n",
      "divide(15): 0.16666666666666666\n",
      ":parameter:1(16): 1\n",
      "divide(17): 0.16666666666666666\n",
      ":parameter:1(18): 1\n",
      ":postprocess:reconstruct(19): [0.16666666666666666, 0.16666666666666666, 0.16666666666666666, 0.16666666666666666]\n",
      ":electron_list:(20): [0.16666666666666666, 0.16666666666666666, 0.16666666666666666, 0.16666666666666666]\n",
      "\n"
     ]
    }
   ],
   "source": [
    "result = ct.get_result(dispatch_id)\n",
    "print(result)"
   ]
  },
  {
   "cell_type": "code",
   "execution_count": null,
   "id": "377c6f3b-d209-4936-9ee8-2d18821867a5",
   "metadata": {},
   "outputs": [],
   "source": []
  }
 ],
 "metadata": {
  "kernelspec": {
   "display_name": "Python 3 (ipykernel)",
   "language": "python",
   "name": "python3"
  },
  "language_info": {
   "codemirror_mode": {
    "name": "ipython",
    "version": 3
   },
   "file_extension": ".py",
   "mimetype": "text/x-python",
   "name": "python",
   "nbconvert_exporter": "python",
   "pygments_lexer": "ipython3",
   "version": "3.10.14"
  }
 },
 "nbformat": 4,
 "nbformat_minor": 5
}
