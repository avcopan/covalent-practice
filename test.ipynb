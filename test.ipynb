{
 "cells": [
  {
   "cell_type": "code",
   "execution_count": 1,
   "id": "2b00242d-8d69-430f-94f3-1fd7dd4077e7",
   "metadata": {},
   "outputs": [],
   "source": [
    "import covalent as ct\n",
    "\n",
    "# Construct tasks as \"electrons\"\n",
    "@ct.electron\n",
    "def join_words(a, b):\n",
    "    return \", \".join([a, b])\n",
    "\n",
    "@ct.electron\n",
    "def excitement(a):\n",
    "    return f\"{a}!\"\n",
    "\n",
    "# Construct a workflow of tasks\n",
    "@ct.lattice\n",
    "def simple_workflow(a, b):\n",
    "    phrase = join_words(a, b)\n",
    "    return excitement(phrase)\n",
    "\n",
    "# Dispatch the workflow\n",
    "dispatch_id = ct.dispatch(simple_workflow)(\"Hello\", \"World\")\n"
   ]
  },
  {
   "cell_type": "code",
   "execution_count": 3,
   "id": "70b11375-366a-4510-8351-8b4f699082c7",
   "metadata": {},
   "outputs": [
    {
     "name": "stdout",
     "output_type": "stream",
     "text": [
      "Hello, World!\n"
     ]
    }
   ],
   "source": [
    "result_string = ct.get_result(dispatch_id).result\n",
    "print(result_string)"
   ]
  },
  {
   "cell_type": "code",
   "execution_count": null,
   "id": "8daf56f7-7746-40c1-9159-1c049630fb27",
   "metadata": {},
   "outputs": [],
   "source": []
  }
 ],
 "metadata": {
  "kernelspec": {
   "display_name": "Python 3 (ipykernel)",
   "language": "python",
   "name": "python3"
  },
  "language_info": {
   "codemirror_mode": {
    "name": "ipython",
    "version": 3
   },
   "file_extension": ".py",
   "mimetype": "text/x-python",
   "name": "python",
   "nbconvert_exporter": "python",
   "pygments_lexer": "ipython3",
   "version": "3.10.14"
  }
 },
 "nbformat": 4,
 "nbformat_minor": 5
}
