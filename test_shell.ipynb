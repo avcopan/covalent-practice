{
 "cells": [
  {
   "cell_type": "code",
   "execution_count": 1,
   "id": "d279d0f9-9b90-4fb5-8420-0e440e2dbaf3",
   "metadata": {},
   "outputs": [],
   "source": [
    "import subprocess\n",
    "import covalent as ct"
   ]
  },
  {
   "cell_type": "code",
   "execution_count": 2,
   "id": "569bbe8e-be5b-4b1e-8fc3-03b6de2de897",
   "metadata": {},
   "outputs": [],
   "source": [
    "@ct.electron\n",
    "def slow_job1(arg):\n",
    "    subprocess.run([\"sleep\", \"5\"])\n",
    "    return arg\n",
    "\n",
    "\n",
    "@ct.electron\n",
    "def slow_job2(arg):\n",
    "    subprocess.run([\"sleep\", \"5\"])\n",
    "    return arg + 1\n",
    "\n",
    "\n",
    "@ct.electron\n",
    "def slow_job3(args):\n",
    "    print(args)\n",
    "    subprocess.run([\"sleep\", \"5\"])\n",
    "    return sum(args)\n",
    "\n",
    "\n",
    "@ct.lattice\n",
    "def workflow(num_instances):\n",
    "    arg = slow_job1(3)\n",
    "    args = [slow_job2(arg) for _ in range(num_instances)]\n",
    "    return slow_job3(args)"
   ]
  },
  {
   "cell_type": "code",
   "execution_count": 3,
   "id": "f8dd039f-cc1c-4c39-b6e3-e0dbf94a72de",
   "metadata": {},
   "outputs": [],
   "source": [
    "dispatch_id = ct.dispatch(workflow)(9)"
   ]
  },
  {
   "cell_type": "code",
   "execution_count": 4,
   "id": "7ae248df-f48b-4cea-b5fb-2f5d1ebf0980",
   "metadata": {},
   "outputs": [
    {
     "name": "stdout",
     "output_type": "stream",
     "text": [
      "\n",
      "Lattice Result\n",
      "==============\n",
      "status: RUNNING\n",
      "result: None\n",
      "input args: 9\n",
      "input kwargs: \n",
      "error: None\n",
      "\n",
      "start_time: 2024-07-23 17:18:13.614520\n",
      "end_time: None\n",
      "\n",
      "results_dir: /home/avcopan/.cache/covalent/results/da403b07-d3ff-43aa-ab95-fdefd83fe375\n",
      "dispatch_id: da403b07-d3ff-43aa-ab95-fdefd83fe375\n",
      "\n",
      "Node Outputs\n",
      "------------\n",
      "slow_job1(0): None\n",
      ":parameter:3(1): 3\n",
      "slow_job2(2): None\n",
      "slow_job2(3): None\n",
      "slow_job2(4): None\n",
      "slow_job2(5): None\n",
      "slow_job2(6): None\n",
      "slow_job2(7): None\n",
      "slow_job2(8): None\n",
      "slow_job2(9): None\n",
      "slow_job2(10): None\n",
      "slow_job3(11): None\n",
      ":electron_list:(12): None\n",
      ":postprocess:reconstruct(13): None\n",
      "\n"
     ]
    }
   ],
   "source": [
    "result = ct.get_result(dispatch_id)\n",
    "print(result)"
   ]
  }
 ],
 "metadata": {
  "kernelspec": {
   "display_name": "Python 3 (ipykernel)",
   "language": "python",
   "name": "python3"
  },
  "language_info": {
   "codemirror_mode": {
    "name": "ipython",
    "version": 3
   },
   "file_extension": ".py",
   "mimetype": "text/x-python",
   "name": "python",
   "nbconvert_exporter": "python",
   "pygments_lexer": "ipython3",
   "version": "3.10.14"
  }
 },
 "nbformat": 4,
 "nbformat_minor": 5
}
