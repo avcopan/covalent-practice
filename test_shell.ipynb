{
 "cells": [
  {
   "cell_type": "code",
   "execution_count": 1,
   "id": "d279d0f9-9b90-4fb5-8420-0e440e2dbaf3",
   "metadata": {},
   "outputs": [],
   "source": [
    "import subprocess\n",
    "import covalent as ct"
   ]
  },
  {
   "cell_type": "code",
   "execution_count": 2,
   "id": "569bbe8e-be5b-4b1e-8fc3-03b6de2de897",
   "metadata": {},
   "outputs": [],
   "source": [
    "@ct.electron\n",
    "def slow_job(arg):\n",
    "    subprocess.run([\"sleep\", \"5\"])\n",
    "    return arg\n",
    "\n",
    "@ct.lattice\n",
    "def workflow(num_instances):\n",
    "    arg = None\n",
    "    for i in range(num_instances):\n",
    "        arg = slow_job(arg)\n",
    "    return arg"
   ]
  },
  {
   "cell_type": "code",
   "execution_count": 3,
   "id": "f8dd039f-cc1c-4c39-b6e3-e0dbf94a72de",
   "metadata": {},
   "outputs": [],
   "source": [
    "dispatch_id = ct.dispatch(workflow)(3)"
   ]
  },
  {
   "cell_type": "code",
   "execution_count": 4,
   "id": "7ae248df-f48b-4cea-b5fb-2f5d1ebf0980",
   "metadata": {},
   "outputs": [
    {
     "name": "stdout",
     "output_type": "stream",
     "text": [
      "\n",
      "Lattice Result\n",
      "==============\n",
      "status: RUNNING\n",
      "result: None\n",
      "input args: 3\n",
      "input kwargs: \n",
      "error: None\n",
      "\n",
      "start_time: 2024-07-19 20:58:24.285649\n",
      "end_time: None\n",
      "\n",
      "results_dir: /home/avcopan/.cache/covalent/results/6bd44a06-b768-413c-b95a-ba6b1e054582\n",
      "dispatch_id: 6bd44a06-b768-413c-b95a-ba6b1e054582\n",
      "\n",
      "Node Outputs\n",
      "------------\n",
      "slow_job(0): None\n",
      ":parameter:None(1): None\n",
      "slow_job(2): None\n",
      "slow_job(3): None\n",
      ":postprocess:reconstruct(4): None\n",
      "\n"
     ]
    }
   ],
   "source": [
    "result = ct.get_result(dispatch_id)\n",
    "print(result)"
   ]
  },
  {
   "cell_type": "code",
   "execution_count": null,
   "id": "b3409b97-a0d7-442c-923f-24ae9e65a633",
   "metadata": {},
   "outputs": [],
   "source": []
  }
 ],
 "metadata": {
  "kernelspec": {
   "display_name": "Python 3 (ipykernel)",
   "language": "python",
   "name": "python3"
  },
  "language_info": {
   "codemirror_mode": {
    "name": "ipython",
    "version": 3
   },
   "file_extension": ".py",
   "mimetype": "text/x-python",
   "name": "python",
   "nbconvert_exporter": "python",
   "pygments_lexer": "ipython3",
   "version": "3.10.14"
  }
 },
 "nbformat": 4,
 "nbformat_minor": 5
}
